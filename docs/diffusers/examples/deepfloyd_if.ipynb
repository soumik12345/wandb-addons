{
 "cells": [
  {
   "cell_type": "code",
   "execution_count": null,
   "metadata": {},
   "outputs": [],
   "source": [
    "import gc\n",
    "from functools import partial\n",
    "\n",
    "import torch\n",
    "\n",
    "from diffusers import IFPipeline, IFSuperResolutionPipeline\n",
    "from wandb_addons.diffusers import IFCallback"
   ]
  },
  {
   "cell_type": "code",
   "execution_count": null,
   "metadata": {},
   "outputs": [],
   "source": [
    "pipeline = IFPipeline.from_pretrained(\n",
    "    \"DeepFloyd/IF-I-XL-v1.0\", variant=\"fp16\", torch_dtype=torch.float16\n",
    ")\n",
    "pipeline.enable_model_cpu_offload()"
   ]
  },
  {
   "cell_type": "code",
   "execution_count": null,
   "metadata": {},
   "outputs": [],
   "source": [
    "prompt = 'a photo of a kangaroo wearing an orange hoodie and blue sunglasses standing in front of the eiffel tower holding a sign that says \"very deep learning\"'\n",
    "prompt_embeds, negative_embeds = pipeline.encode_prompt(prompt)\n",
    "num_images_per_prompt = 2\n",
    "num_inference_steps = 100\n",
    "configs = {\"guidance_scale\": 7.0}\n",
    "\n",
    "callback = IFCallback(\n",
    "    pipeline=pipeline,\n",
    "    prompt=prompt,\n",
    "    wandb_project=\"diffusers-2\",\n",
    "    wandb_entity=\"geekyrakshit\",\n",
    "    weave_mode=False,\n",
    "    num_inference_steps=num_inference_steps,\n",
    "    num_images_per_prompt=num_images_per_prompt,\n",
    "    configs=configs\n",
    ")\n",
    "\n",
    "image = pipeline(\n",
    "    prompt_embeds=prompt_embeds,\n",
    "    negative_prompt_embeds=negative_embeds,\n",
    "    output_type=\"pt\",\n",
    "    callback=partial(callback, end_experiment=False),\n",
    "    **configs,\n",
    ").images"
   ]
  },
  {
   "cell_type": "code",
   "execution_count": null,
   "metadata": {},
   "outputs": [],
   "source": [
    "del pipeline\n",
    "gc.collect()\n",
    "torch.cuda.empty_cache()"
   ]
  },
  {
   "cell_type": "code",
   "execution_count": null,
   "metadata": {},
   "outputs": [],
   "source": [
    "pipeline_2 = IFSuperResolutionPipeline.from_pretrained(\n",
    "    \"DeepFloyd/IF-II-L-v1.0\", text_encoder=None, variant=\"fp16\", torch_dtype=torch.float16\n",
    ")\n",
    "pipeline_2.enable_model_cpu_offload()"
   ]
  },
  {
   "cell_type": "code",
   "execution_count": null,
   "metadata": {},
   "outputs": [],
   "source": [
    "num_inference_steps = 50\n",
    "\n",
    "callback.add_stage(pipeline_2, num_inference_steps=num_inference_steps)\n",
    "\n",
    "image = pipeline_2(\n",
    "    image=image,\n",
    "    prompt_embeds=prompt_embeds,\n",
    "    negative_prompt_embeds=negative_embeds,\n",
    "    num_inference_steps=num_inference_steps,\n",
    "    output_type=\"pt\",\n",
    "    callback=callback,\n",
    ").images"
   ]
  },
  {
   "cell_type": "code",
   "execution_count": null,
   "metadata": {},
   "outputs": [],
   "source": [
    "del pipeline_2\n",
    "gc.collect()\n",
    "torch.cuda.empty_cache()"
   ]
  }
 ],
 "metadata": {
  "kernelspec": {
   "display_name": "base",
   "language": "python",
   "name": "python3"
  },
  "language_info": {
   "codemirror_mode": {
    "name": "ipython",
    "version": 3
   },
   "file_extension": ".py",
   "mimetype": "text/x-python",
   "name": "python",
   "nbconvert_exporter": "python",
   "pygments_lexer": "ipython3",
   "version": "3.10.12"
  },
  "orig_nbformat": 4
 },
 "nbformat": 4,
 "nbformat_minor": 2
}
