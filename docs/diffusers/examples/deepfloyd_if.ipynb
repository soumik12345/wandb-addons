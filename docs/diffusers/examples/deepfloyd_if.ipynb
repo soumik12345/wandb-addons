{
 "cells": [
  {
   "cell_type": "code",
   "execution_count": null,
   "metadata": {},
   "outputs": [],
   "source": [
    "import gc\n",
    "from functools import partial\n",
    "\n",
    "import torch\n",
    "\n",
    "torch.cuda.empty_cache()\n",
    "\n",
    "from diffusers import IFPipeline, IFSuperResolutionPipeline, StableDiffusionUpscalePipeline\n",
    "from wandb_addons.diffusers import IFCallback"
   ]
  },
  {
   "cell_type": "code",
   "execution_count": null,
   "metadata": {},
   "outputs": [],
   "source": [
    "pipeline_1 = IFPipeline.from_pretrained(\n",
    "    \"DeepFloyd/IF-I-XL-v1.0\", variant=\"fp16\", torch_dtype=torch.float16\n",
    ")\n",
    "pipeline_1.enable_model_cpu_offload()"
   ]
  },
  {
   "cell_type": "code",
   "execution_count": null,
   "metadata": {},
   "outputs": [],
   "source": [
    "prompt = 'a photo of a smiling bee wearing a yellow hoodie and blue sunglasses standing in front of the eiffel tower holding a sign that says \"Weights and Biases\"'\n",
    "prompt_embeds, negative_embeds = pipeline_1.encode_prompt(prompt)\n",
    "num_images_per_prompt = 2\n",
    "num_inference_steps = 100\n",
    "configs = {\"guidance_scale\": 7.0}\n",
    "\n",
    "callback = IFCallback(\n",
    "    pipeline=pipeline_1,\n",
    "    prompt=prompt,\n",
    "    wandb_project=\"diffusers-2\",\n",
    "    wandb_entity=\"geekyrakshit\",\n",
    "    weave_mode=False,\n",
    "    num_inference_steps=num_inference_steps,\n",
    "    num_images_per_prompt=num_images_per_prompt,\n",
    "    configs=configs\n",
    ")\n",
    "\n",
    "image = pipeline_1(\n",
    "    prompt_embeds=prompt_embeds,\n",
    "    negative_prompt_embeds=negative_embeds,\n",
    "    output_type=\"pt\",\n",
    "    callback=partial(callback, end_experiment=False),\n",
    "    **configs,\n",
    ").images"
   ]
  },
  {
   "cell_type": "code",
   "execution_count": null,
   "metadata": {},
   "outputs": [],
   "source": [
    "pipeline_2 = IFSuperResolutionPipeline.from_pretrained(\n",
    "    \"DeepFloyd/IF-II-L-v1.0\", text_encoder=None, variant=\"fp16\", torch_dtype=torch.float16\n",
    ")\n",
    "pipeline_2.enable_model_cpu_offload()"
   ]
  },
  {
   "cell_type": "code",
   "execution_count": null,
   "metadata": {},
   "outputs": [],
   "source": [
    "num_inference_steps = 50\n",
    "\n",
    "callback.add_stage(pipeline_2, num_inference_steps=num_inference_steps)\n",
    "\n",
    "image = pipeline_2(\n",
    "    image=image,\n",
    "    prompt_embeds=prompt_embeds,\n",
    "    negative_prompt_embeds=negative_embeds,\n",
    "    num_inference_steps=num_inference_steps,\n",
    "    output_type=\"pt\",\n",
    "    callback=partial(callback, end_experiment=False),\n",
    ").images"
   ]
  },
  {
   "cell_type": "code",
   "execution_count": null,
   "metadata": {},
   "outputs": [],
   "source": [
    "del pipeline_2\n",
    "gc.collect()\n",
    "torch.cuda.empty_cache()"
   ]
  },
  {
   "cell_type": "code",
   "execution_count": null,
   "metadata": {},
   "outputs": [],
   "source": [
    "safety_modules = {\n",
    "    \"feature_extractor\": pipeline_1.feature_extractor,\n",
    "    \"safety_checker\": pipeline_1.safety_checker,\n",
    "    \"watermarker\": pipeline_1.watermarker,\n",
    "}\n",
    "pipeline_3 = StableDiffusionUpscalePipeline.from_pretrained(\n",
    "    \"stabilityai/stable-diffusion-x4-upscaler\", **safety_modules, torch_dtype=torch.float16\n",
    ")\n",
    "pipeline_3.enable_model_cpu_offload()"
   ]
  },
  {
   "cell_type": "code",
   "execution_count": null,
   "metadata": {},
   "outputs": [],
   "source": [
    "num_inference_steps = 75\n",
    "\n",
    "callback.add_stage(pipeline_3, num_inference_steps=num_inference_steps, stage_name=\"Upscale\")\n",
    "\n",
    "image = pipeline_3(\n",
    "    prompt=prompt,\n",
    "    image=image,\n",
    "    noise_level=100,\n",
    "    num_inference_steps=num_inference_steps,\n",
    "    callback=callback,\n",
    ").images"
   ]
  }
 ],
 "metadata": {
  "kernelspec": {
   "display_name": "base",
   "language": "python",
   "name": "python3"
  },
  "language_info": {
   "codemirror_mode": {
    "name": "ipython",
    "version": 3
   },
   "file_extension": ".py",
   "mimetype": "text/x-python",
   "name": "python",
   "nbconvert_exporter": "python",
   "pygments_lexer": "ipython3",
   "version": "3.10.12"
  },
  "orig_nbformat": 4
 },
 "nbformat": 4,
 "nbformat_minor": 2
}
