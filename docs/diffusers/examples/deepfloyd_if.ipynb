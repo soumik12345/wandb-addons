{
 "cells": [
  {
   "cell_type": "code",
   "execution_count": null,
   "metadata": {},
   "outputs": [],
   "source": [
    "import torch\n",
    "\n",
    "from diffusers import IFPipeline, IFSuperResolutionPipeline\n",
    "from diffusers.utils import pt_to_pil\n",
    "\n",
    "from wandb_addons.diffusers import IFCallback"
   ]
  },
  {
   "cell_type": "code",
   "execution_count": null,
   "metadata": {},
   "outputs": [],
   "source": [
    "pipeline = IFPipeline.from_pretrained(\n",
    "    \"DeepFloyd/IF-I-XL-v1.0\", variant=\"fp16\", torch_dtype=torch.float16\n",
    ")\n",
    "pipeline.enable_model_cpu_offload()"
   ]
  },
  {
   "cell_type": "code",
   "execution_count": null,
   "metadata": {},
   "outputs": [],
   "source": [
    "prompt = 'a photo of a kangaroo wearing an orange hoodie and blue sunglasses standing in front of the eiffel tower holding a sign that says \"very deep learning\"'\n",
    "prompt_embeds, negative_embeds = pipeline.encode_prompt(prompt)\n",
    "num_images_per_prompt = 2\n",
    "num_inference_steps = 100\n",
    "configs = {\"guidance_scale\": 7.0}\n",
    "\n",
    "callback = IFCallback(\n",
    "    pipeline=pipeline,\n",
    "    prompt=prompt,\n",
    "    wandb_project=\"diffusers\",\n",
    "    wandb_entity=\"geekyrakshit\",\n",
    "    weave_mode=False,\n",
    "    num_inference_steps=num_inference_steps,\n",
    "    num_images_per_prompt=num_images_per_prompt,\n",
    "    configs=configs\n",
    ")\n",
    "\n",
    "image = pipeline(\n",
    "    prompt_embeds=prompt_embeds,\n",
    "    negative_prompt_embeds=negative_embeds,\n",
    "    output_type=\"pt\",\n",
    "    callback=callback,\n",
    "    **configs,\n",
    ").images"
   ]
  },
  {
   "cell_type": "code",
   "execution_count": null,
   "metadata": {},
   "outputs": [],
   "source": [
    "pil_image = pt_to_pil(image)\n",
    "pil_image[0]"
   ]
  },
  {
   "cell_type": "code",
   "execution_count": null,
   "metadata": {},
   "outputs": [],
   "source": [
    "pipe_2 = IFSuperResolutionPipeline.from_pretrained(\n",
    "    \"DeepFloyd/IF-II-L-v1.0\", text_encoder=None, variant=\"fp16\", torch_dtype=torch.float16\n",
    ")\n",
    "pipe_2.enable_model_cpu_offload()\n",
    "\n",
    "# stage 2\n",
    "image = pipe_2(\n",
    "    image=image,\n",
    "    prompt_embeds=prompt_embeds,\n",
    "    negative_prompt_embeds=negative_embeds,\n",
    "    output_type=\"pt\",\n",
    ").images\n",
    "pil_image = pt_to_pil(image)\n",
    "pil_image[0]"
   ]
  },
  {
   "cell_type": "code",
   "execution_count": null,
   "metadata": {},
   "outputs": [],
   "source": []
  }
 ],
 "metadata": {
  "kernelspec": {
   "display_name": "base",
   "language": "python",
   "name": "python3"
  },
  "language_info": {
   "codemirror_mode": {
    "name": "ipython",
    "version": 3
   },
   "file_extension": ".py",
   "mimetype": "text/x-python",
   "name": "python",
   "nbconvert_exporter": "python",
   "pygments_lexer": "ipython3",
   "version": "3.10.12"
  },
  "orig_nbformat": 4
 },
 "nbformat": 4,
 "nbformat_minor": 2
}
