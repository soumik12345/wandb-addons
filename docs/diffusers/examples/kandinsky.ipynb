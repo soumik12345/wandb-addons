{
 "cells": [
  {
   "cell_type": "code",
   "execution_count": null,
   "metadata": {},
   "outputs": [],
   "source": [
    "import torch\n",
    "from diffusers import KandinskyCombinedPipeline\n",
    "\n",
    "from wandb_addons.diffusers import KandinskyCallback"
   ]
  },
  {
   "cell_type": "code",
   "execution_count": null,
   "metadata": {},
   "outputs": [],
   "source": [
    "pipe = KandinskyCombinedPipeline.from_pretrained(\n",
    "    \"kandinsky-community/kandinsky-2-1\", torch_dtype=torch.float16\n",
    ")\n",
    "pipe = pipe.to(\"cuda\")"
   ]
  },
  {
   "cell_type": "code",
   "execution_count": null,
   "metadata": {},
   "outputs": [],
   "source": [
    "prompt = [\"a photograph of an astronaut riding a horse\", \"a photograph of a dragon\"]\n",
    "negative_prompt = [\"ugly, deformed\", \"ugly, deformed\"]\n",
    "num_images_per_prompt = 2\n",
    "\n",
    "configs = {\n",
    "    \"guidance_scale\": 4.0,\n",
    "    \"height\": 512,\n",
    "    \"width\": 512,\n",
    "    \"prior_guidance_scale\": 4.0,\n",
    "    \"prior_num_inference_steps\": 25,\n",
    "}\n",
    "\n",
    "# Create the WandB callback for StableDiffusionPipeline\n",
    "callback = KandinskyCallback(\n",
    "    pipe,\n",
    "    prompt=prompt,\n",
    "    negative_prompt=negative_prompt,\n",
    "    wandb_project=\"diffusers\",\n",
    "    num_images_per_prompt=num_images_per_prompt,\n",
    "    configs=configs,\n",
    ")\n",
    "\n",
    "# Add the callback to the pipeline\n",
    "image = pipe(\n",
    "    prompt,\n",
    "    negative_prompt=negative_prompt,\n",
    "    callback=callback,\n",
    "    num_images_per_prompt=num_images_per_prompt,\n",
    "    **configs,\n",
    ")"
   ]
  }
 ],
 "metadata": {
  "kernelspec": {
   "display_name": "base",
   "language": "python",
   "name": "python3"
  },
  "language_info": {
   "codemirror_mode": {
    "name": "ipython",
    "version": 3
   },
   "file_extension": ".py",
   "mimetype": "text/x-python",
   "name": "python",
   "nbconvert_exporter": "python",
   "pygments_lexer": "ipython3",
   "version": "3.10.12"
  },
  "orig_nbformat": 4
 },
 "nbformat": 4,
 "nbformat_minor": 2
}
