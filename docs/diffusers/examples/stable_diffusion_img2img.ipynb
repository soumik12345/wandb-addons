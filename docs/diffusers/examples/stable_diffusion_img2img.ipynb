{
 "cells": [
  {
   "cell_type": "code",
   "execution_count": null,
   "metadata": {},
   "outputs": [],
   "source": [
    "import requests\n",
    "import torch\n",
    "from PIL import Image\n",
    "from io import BytesIO\n",
    "\n",
    "from diffusers import StableDiffusionImg2ImgPipeline\n",
    "\n",
    "from wandb_addons.diffusers import get_wandb_callback"
   ]
  },
  {
   "cell_type": "code",
   "execution_count": null,
   "metadata": {},
   "outputs": [],
   "source": [
    "pipe = StableDiffusionImg2ImgPipeline.from_pretrained(\n",
    "    \"runwayml/stable-diffusion-v1-5\", torch_dtype=torch.float16\n",
    ")\n",
    "pipe = pipe.to(\"cuda\")"
   ]
  },
  {
   "cell_type": "code",
   "execution_count": null,
   "metadata": {},
   "outputs": [],
   "source": [
    "url = \"https://raw.githubusercontent.com/CompVis/stable-diffusion/main/assets/stable-samples/img2img/sketch-mountains-input.jpg\"\n",
    "\n",
    "response = requests.get(url)\n",
    "init_image = Image.open(BytesIO(response.content)).convert(\"RGB\")\n",
    "init_image = init_image.resize((768, 512))\n",
    "\n",
    "prompt = \"A fantasy landscape, trending on artstation\""
   ]
  },
  {
   "cell_type": "code",
   "execution_count": null,
   "metadata": {},
   "outputs": [],
   "source": [
    "num_images_per_prompt = 1\n",
    "num_inference_steps = 50\n",
    "strength = 0.75\n",
    "\n",
    "callback = get_wandb_callback(\n",
    "    pipeline=pipe, prompt=prompt,\n",
    "    input_images=init_image,\n",
    "    wandb_project=\"diffusers\",\n",
    "    wandb_entity=\"geekyrakshit\",\n",
    "    weave_mode=True,\n",
    "    num_images_per_prompt=num_images_per_prompt,\n",
    "    num_inference_steps=num_inference_steps,\n",
    "    strength=strength,\n",
    ")\n",
    "\n",
    "results = pipe(\n",
    "    prompt=prompt,\n",
    "    image=init_image,\n",
    "    strength=strength,\n",
    "    num_images_per_prompt=num_images_per_prompt,\n",
    "    num_inference_steps=num_inference_steps,\n",
    "    callback=callback\n",
    ")"
   ]
  }
 ],
 "metadata": {
  "kernelspec": {
   "display_name": "base",
   "language": "python",
   "name": "python3"
  },
  "language_info": {
   "codemirror_mode": {
    "name": "ipython",
    "version": 3
   },
   "file_extension": ".py",
   "mimetype": "text/x-python",
   "name": "python",
   "nbconvert_exporter": "python",
   "pygments_lexer": "ipython3",
   "version": "3.10.12"
  },
  "orig_nbformat": 4
 },
 "nbformat": 4,
 "nbformat_minor": 2
}
