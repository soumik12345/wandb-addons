{
 "cells": [
  {
   "cell_type": "code",
   "execution_count": null,
   "metadata": {},
   "outputs": [],
   "source": [
    "!git clone https://github.com/soumik12345/wandb-addons\n",
    "!pip install ./wandb-addons[huggingface]"
   ]
  },
  {
   "cell_type": "code",
   "execution_count": null,
   "metadata": {},
   "outputs": [],
   "source": [
    "import torch\n",
    "from diffusers import StableDiffusionPipeline\n",
    "\n",
    "from wandb_addons.diffusers import get_wandb_callback"
   ]
  },
  {
   "cell_type": "code",
   "execution_count": null,
   "metadata": {},
   "outputs": [],
   "source": [
    "pipe = StableDiffusionPipeline.from_pretrained(\n",
    "    \"CompVis/stable-diffusion-v1-4\", torch_dtype=torch.float16\n",
    ")\n",
    "pipe = pipe.to(\"cuda\")"
   ]
  },
  {
   "cell_type": "code",
   "execution_count": null,
   "metadata": {},
   "outputs": [],
   "source": [
    "prompt = [\"a photograph of an astronaut riding a horse\", \"a photograph of a dragon\"]\n",
    "negative_prompt = [\"ugly, deformed\", \"ugly, deformed\"]\n",
    "num_images_per_prompt = 2\n",
    "num_inference_steps = 50\n",
    "configs = {\n",
    "    \"eta\": 0.0,\n",
    "    \"guidance_rescale\": 0.0,\n",
    "}\n",
    "\n",
    "# Create the WandB callback for StableDiffusionPipeline\n",
    "callback = get_wandb_callback(\n",
    "    pipe,\n",
    "    prompt=prompt,\n",
    "    negative_prompt=negative_prompt,\n",
    "    wandb_project=\"diffusers\",\n",
    "    wandb_entity=\"geekyrakshit\",\n",
    "    weave_mode=True,\n",
    "    num_inference_steps=num_inference_steps,\n",
    "    num_images_per_prompt=num_images_per_prompt,\n",
    "    configs=configs,\n",
    ")\n",
    "\n",
    "# Add the callback to the pipeline\n",
    "image = pipe(\n",
    "    prompt,\n",
    "    negative_prompt=negative_prompt,\n",
    "    callback=callback,\n",
    "    num_inference_steps=num_inference_steps,\n",
    "    num_images_per_prompt=num_images_per_prompt,\n",
    "    **configs,\n",
    ")"
   ]
  }
 ],
 "metadata": {
  "kernelspec": {
   "display_name": "base",
   "language": "python",
   "name": "python3"
  },
  "language_info": {
   "codemirror_mode": {
    "name": "ipython",
    "version": 3
   },
   "file_extension": ".py",
   "mimetype": "text/x-python",
   "name": "python",
   "nbconvert_exporter": "python",
   "pygments_lexer": "ipython3",
   "version": "3.10.12"
  },
  "orig_nbformat": 4
 },
 "nbformat": 4,
 "nbformat_minor": 2
}
