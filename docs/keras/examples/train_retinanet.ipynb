{
 "cells": [
  {
   "cell_type": "markdown",
   "metadata": {},
   "source": [
    "# Train a RetinaNet using KerasCV and Weights & Biases\n",
    "\n",
    "[![Open In Colab](https://colab.research.google.com/assets/colab-badge.svg)](https://colab.research.google.com/github/soumik12345/wandb-addons/blob/main/docs/keras/examples/train_retinanet.ipynb)\n",
    "\n",
    "This notebook demonstrates how you can put together a simple pipeline for training an object detection model using KerasCV and tracking and managing the experiment using Weights & Biases.\n",
    "\n",
    "Original Source: https://keras.io/guides/keras_cv/object_detection_keras_cv"
   ]
  },
  {
   "cell_type": "markdown",
   "metadata": {},
   "source": [
    "## Install the Dependencies"
   ]
  },
  {
   "cell_type": "code",
   "execution_count": null,
   "metadata": {},
   "outputs": [],
   "source": [
    "!pip install --upgrade -q git+https://github.com/keras-team/keras-cv\n",
    "!pip install --upgrade -q git+https://github.com/soumik12345/wandb-addons"
   ]
  },
  {
   "cell_type": "code",
   "execution_count": null,
   "metadata": {},
   "outputs": [],
   "source": [
    "import tensorflow as tf\n",
    "from tensorflow import keras\n",
    "import tensorflow_datasets as tfds\n",
    "\n",
    "import keras_cv\n",
    "from tqdm.auto import tqdm\n",
    "\n",
    "import wandb\n",
    "from wandb.keras import WandbMetricsLogger\n",
    "from wandb_addons.keras.detection import WandBDetectionVisualizationCallback"
   ]
  },
  {
   "cell_type": "markdown",
   "metadata": {},
   "source": [
    "## Initialize a Weights & Biases run and Set up the Configs"
   ]
  },
  {
   "cell_type": "code",
   "execution_count": null,
   "metadata": {},
   "outputs": [],
   "source": [
    "wandb.init(\n",
    "    project=\"keras-cv-callbacks\", entity=\"geekyrakshit\", job_type=\"detection\"\n",
    ")\n",
    "\n",
    "config = wandb.config\n",
    "config.batch_size = 4\n",
    "config.base_lr = 0.005\n",
    "config.image_size = 640\n",
    "config.model_name = \"retinanet_resnet50_pascalvoc\"\n",
    "config.momentum = 0.9\n",
    "config.global_clipnorm = 10.0\n",
    "config.epochs = 3\n",
    "\n",
    "\n",
    "class_ids = [\n",
    "    \"Aeroplane\",\n",
    "    \"Bicycle\",\n",
    "    \"Bird\",\n",
    "    \"Boat\",\n",
    "    \"Bottle\",\n",
    "    \"Bus\",\n",
    "    \"Car\",\n",
    "    \"Cat\",\n",
    "    \"Chair\",\n",
    "    \"Cow\",\n",
    "    \"Dining Table\",\n",
    "    \"Dog\",\n",
    "    \"Horse\",\n",
    "    \"Motorbike\",\n",
    "    \"Person\",\n",
    "    \"Potted Plant\",\n",
    "    \"Sheep\",\n",
    "    \"Sofa\",\n",
    "    \"Train\",\n",
    "    \"Tvmonitor\",\n",
    "    \"Total\",\n",
    "]\n",
    "config.class_mapping = dict(zip(range(len(class_ids)), class_ids))"
   ]
  },
  {
   "cell_type": "markdown",
   "metadata": {},
   "source": [
    "## Setup the Dataset Pipeline"
   ]
  },
  {
   "cell_type": "code",
   "execution_count": null,
   "metadata": {},
   "outputs": [],
   "source": [
    "train_ds = tfds.load(\n",
    "    \"voc/2007\",\n",
    "    split=\"train+validation\",\n",
    "    with_info=False,\n",
    "    shuffle_files=True,\n",
    ")\n",
    "train_ds = train_ds.concatenate(\n",
    "    tfds.load(\n",
    "        \"voc/2012\",\n",
    "        split=\"train+validation\",\n",
    "        with_info=False,\n",
    "        shuffle_files=True,\n",
    "    )\n",
    ")\n",
    "eval_ds = tfds.load(\"voc/2007\", split=\"test\", with_info=False)"
   ]
  },
  {
   "cell_type": "code",
   "execution_count": null,
   "metadata": {},
   "outputs": [],
   "source": [
    "def unpackage_tfds_inputs(inputs, bounding_box_format):\n",
    "    image = inputs[\"image\"]\n",
    "    boxes = keras_cv.bounding_box.convert_format(\n",
    "        inputs[\"objects\"][\"bbox\"],\n",
    "        images=image,\n",
    "        source=\"rel_yxyx\",\n",
    "        target=bounding_box_format,\n",
    "    )\n",
    "    bounding_boxes = {\n",
    "        \"classes\": tf.cast(inputs[\"objects\"][\"label\"], dtype=tf.float32),\n",
    "        \"boxes\": tf.cast(boxes, dtype=tf.float32),\n",
    "    }\n",
    "    return {\n",
    "        \"images\": tf.cast(image, tf.float32),\n",
    "        \"bounding_boxes\": bounding_boxes,\n",
    "    }\n",
    "\n",
    "\n",
    "train_ds = train_ds.map(\n",
    "    lambda inputs: unpackage_tfds_inputs(inputs, bounding_box_format=\"xywh\"),\n",
    "    num_parallel_calls=tf.data.AUTOTUNE,\n",
    ")\n",
    "eval_ds = eval_ds.map(\n",
    "    lambda inputs: unpackage_tfds_inputs(inputs, bounding_box_format=\"xywh\"),\n",
    "    num_parallel_calls=tf.data.AUTOTUNE,\n",
    ")"
   ]
  },
  {
   "cell_type": "code",
   "execution_count": null,
   "metadata": {},
   "outputs": [],
   "source": [
    "train_ds = train_ds.ragged_batch(config.batch_size, drop_remainder=True)\n",
    "eval_ds = eval_ds.ragged_batch(config.batch_size, drop_remainder=True)"
   ]
  },
  {
   "cell_type": "code",
   "execution_count": null,
   "metadata": {},
   "outputs": [],
   "source": [
    "augmenter = keras.Sequential(\n",
    "    layers=[\n",
    "        keras_cv.layers.RandomFlip(mode=\"horizontal\", bounding_box_format=\"xywh\"),\n",
    "        keras_cv.layers.JitteredResize(\n",
    "            target_size=(config.image_size, config.image_size),\n",
    "            scale_factor=(0.75, 1.3),\n",
    "            bounding_box_format=\"xywh\"\n",
    "        ),\n",
    "    ]\n",
    ")\n",
    "\n",
    "train_ds = train_ds.map(augmenter, num_parallel_calls=tf.data.AUTOTUNE)"
   ]
  },
  {
   "cell_type": "code",
   "execution_count": null,
   "metadata": {},
   "outputs": [],
   "source": [
    "inference_resizing = keras_cv.layers.Resizing(\n",
    "    config.image_size,\n",
    "    config.image_size,\n",
    "    bounding_box_format=\"xywh\",\n",
    "    pad_to_aspect_ratio=True\n",
    ")\n",
    "eval_ds = eval_ds.map(inference_resizing, num_parallel_calls=tf.data.AUTOTUNE)"
   ]
  },
  {
   "cell_type": "code",
   "execution_count": null,
   "metadata": {},
   "outputs": [],
   "source": [
    "def dict_to_tuple(inputs):\n",
    "    return inputs[\"images\"], keras_cv.bounding_box.to_dense(\n",
    "        inputs[\"bounding_boxes\"], max_boxes=32\n",
    "    )\n",
    "\n",
    "\n",
    "train_ds = train_ds.map(dict_to_tuple, num_parallel_calls=tf.data.AUTOTUNE)\n",
    "eval_ds = eval_ds.map(dict_to_tuple, num_parallel_calls=tf.data.AUTOTUNE)\n",
    "\n",
    "train_ds = train_ds.prefetch(tf.data.AUTOTUNE)\n",
    "eval_ds = eval_ds.prefetch(tf.data.AUTOTUNE)"
   ]
  },
  {
   "cell_type": "markdown",
   "metadata": {},
   "source": [
    "## Define and Compile the Model"
   ]
  },
  {
   "cell_type": "code",
   "execution_count": null,
   "metadata": {},
   "outputs": [],
   "source": [
    "model = keras_cv.models.RetinaNet.from_preset(\n",
    "    \"resnet50_imagenet\",\n",
    "    num_classes=len(config.class_mapping),\n",
    "    bounding_box_format=\"xywh\",\n",
    ")\n",
    "print(model.prediction_decoder)\n",
    "\n",
    "\n",
    "optimizer = keras.optimizers.SGD(\n",
    "    learning_rate=config.base_lr,\n",
    "    momentum=config.momentum,\n",
    "    global_clipnorm=config.global_clipnorm,\n",
    ")\n",
    "model.compile(\n",
    "    classification_loss=\"focal\",\n",
    "    box_loss=\"smoothl1\",\n",
    "    optimizer=optimizer,\n",
    "    metrics=None,\n",
    ")"
   ]
  },
  {
   "cell_type": "markdown",
   "metadata": {},
   "source": [
    "## Start Training"
   ]
  },
  {
   "cell_type": "code",
   "execution_count": null,
   "metadata": {},
   "outputs": [],
   "source": [
    "sampled_ds = train_ds.take(20)\n",
    "\n",
    "model.fit(\n",
    "    sampled_ds,\n",
    "    validation_data=sampled_ds,\n",
    "    epochs=config.epochs,\n",
    "    callbacks=[\n",
    "        WandbMetricsLogger(log_freq=\"batch\"),\n",
    "        WandBDetectionVisualizationCallback(\n",
    "            dataset=sampled_ds,\n",
    "            class_mapping=config.class_mapping,\n",
    "            max_batches_to_visualize=2,\n",
    "        ),\n",
    "    ],\n",
    ")\n",
    "\n",
    "# Finish the experiment\n",
    "wandb.finish()"
   ]
  }
 ],
 "metadata": {
  "language_info": {
   "name": "python"
  },
  "orig_nbformat": 4
 },
 "nbformat": 4,
 "nbformat_minor": 2
}
