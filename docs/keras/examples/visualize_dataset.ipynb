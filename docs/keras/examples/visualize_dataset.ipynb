{
 "cells": [
  {
   "cell_type": "markdown",
   "metadata": {},
   "source": [
    "# Visualize Object-Detection Datasets using Weights & Biases\n",
    "\n",
    "[![Open In Colab](https://colab.research.google.com/assets/colab-badge.svg)](https://colab.research.google.com/github/soumik12345/wandb-addons/blob/main/docs/keras/examples/visualize_dataset.ipynb)\n",
    "\n",
    "This notebook demostrates how you can visualize and debug your data input pipeline for object detetction using Weights & Biases.\n",
    "\n",
    "Original Notebook: https://keras.io/guides/keras_cv/object_detection_keras_cv/"
   ]
  },
  {
   "cell_type": "markdown",
   "metadata": {},
   "source": [
    "## Install Dependencies"
   ]
  },
  {
   "cell_type": "code",
   "execution_count": null,
   "metadata": {},
   "outputs": [],
   "source": [
    "!pip install --upgrade -q git+https://github.com/keras-team/keras-cv\n",
    "!pip install --upgrade -q git+https://github.com/soumik12345/wandb-addons"
   ]
  },
  {
   "cell_type": "code",
   "execution_count": null,
   "metadata": {},
   "outputs": [],
   "source": [
    "import tensorflow as tf\n",
    "from tensorflow import keras\n",
    "import tensorflow_datasets as tfds\n",
    "\n",
    "import keras_cv\n",
    "\n",
    "import wandb\n",
    "from wandb_addons.keras.detection import visualize_dataset"
   ]
  },
  {
   "cell_type": "markdown",
   "metadata": {},
   "source": [
    "## Initialize a Weights & Biases run and Set up the Configs"
   ]
  },
  {
   "cell_type": "code",
   "execution_count": null,
   "metadata": {},
   "outputs": [],
   "source": [
    "wandb.init(project=\"keras-community-days\", job_type=\"visualization\")\n",
    "\n",
    "config = wandb.config\n",
    "config.batch_size = 4\n",
    "config.base_lr = 0.005\n",
    "config.model_name = \"retinanet_resnet50_pascalvoc\"\n",
    "config.momentum = 0.9\n",
    "config.global_clipnorm = 10.0\n",
    "\n",
    "\n",
    "class_ids = [\n",
    "    \"Aeroplane\",\n",
    "    \"Bicycle\",\n",
    "    \"Bird\",\n",
    "    \"Boat\",\n",
    "    \"Bottle\",\n",
    "    \"Bus\",\n",
    "    \"Car\",\n",
    "    \"Cat\",\n",
    "    \"Chair\",\n",
    "    \"Cow\",\n",
    "    \"Dining Table\",\n",
    "    \"Dog\",\n",
    "    \"Horse\",\n",
    "    \"Motorbike\",\n",
    "    \"Person\",\n",
    "    \"Potted Plant\",\n",
    "    \"Sheep\",\n",
    "    \"Sofa\",\n",
    "    \"Train\",\n",
    "    \"Tvmonitor\",\n",
    "    \"Total\",\n",
    "]\n",
    "config.class_mapping = dict(zip(range(len(class_ids)), class_ids))"
   ]
  },
  {
   "cell_type": "markdown",
   "metadata": {},
   "source": [
    "## Load Pascal VOC Dataset"
   ]
  },
  {
   "cell_type": "code",
   "execution_count": null,
   "metadata": {},
   "outputs": [],
   "source": [
    "def unpackage_raw_tfds_inputs(inputs, bounding_box_format):\n",
    "    image = inputs[\"image\"]\n",
    "    boxes = keras_cv.bounding_box.convert_format(\n",
    "        inputs[\"objects\"][\"bbox\"],\n",
    "        images=image,\n",
    "        source=\"rel_yxyx\",\n",
    "        target=bounding_box_format,\n",
    "    )\n",
    "    bounding_boxes = {\n",
    "        \"classes\": tf.cast(inputs[\"objects\"][\"label\"], dtype=tf.float32),\n",
    "        \"boxes\": tf.cast(boxes, dtype=tf.float32),\n",
    "    }\n",
    "    return {\n",
    "        \"images\": tf.cast(image, tf.float32),\n",
    "        \"bounding_boxes\": bounding_boxes\n",
    "    }\n",
    "\n",
    "\n",
    "def load_pascal_voc(split, dataset, bounding_box_format):\n",
    "    ds = tfds.load(dataset, split=split, with_info=False, shuffle_files=True)\n",
    "    ds = ds.map(\n",
    "        lambda x: unpackage_raw_tfds_inputs(\n",
    "            x, bounding_box_format=bounding_box_format\n",
    "        ),\n",
    "        num_parallel_calls=tf.data.AUTOTUNE,\n",
    "    )\n",
    "    return ds\n",
    "\n",
    "\n",
    "train_ds = load_pascal_voc(\n",
    "    split=\"train\", dataset=\"voc/2007\", bounding_box_format=\"xywh\"\n",
    ")\n",
    "eval_ds = load_pascal_voc(split=\"test\", dataset=\"voc/2007\", bounding_box_format=\"xywh\")\n",
    "\n",
    "train_ds = train_ds.shuffle(config.batch_size * 4)"
   ]
  },
  {
   "cell_type": "markdown",
   "metadata": {},
   "source": [
    "## Visualize the Raw Dataset with Bounding Box Annotations"
   ]
  },
  {
   "cell_type": "code",
   "execution_count": null,
   "metadata": {},
   "outputs": [],
   "source": [
    "train_ds = train_ds.ragged_batch(config.batch_size, drop_remainder=True)\n",
    "eval_ds = eval_ds.ragged_batch(config.batch_size, drop_remainder=True)\n",
    "\n",
    "\n",
    "visualize_dataset(\n",
    "    dataset=train_ds,\n",
    "    class_mapping=config.class_mapping,\n",
    "    title=\"Train-Dataset\",\n",
    "    max_batches_to_visualize=10,\n",
    ")\n",
    "visualize_dataset(\n",
    "    dataset=eval_ds,\n",
    "    class_mapping=config.class_mapping,\n",
    "    title=\"Eval-Dataset\",\n",
    "    max_batches_to_visualize=10,\n",
    ")"
   ]
  },
  {
   "cell_type": "markdown",
   "metadata": {},
   "source": [
    "## Visualize the Training Dataset with Augmentations"
   ]
  },
  {
   "cell_type": "code",
   "execution_count": null,
   "metadata": {},
   "outputs": [],
   "source": [
    "augmenter = keras.Sequential(\n",
    "    layers=[\n",
    "        keras_cv.layers.RandomFlip(mode=\"horizontal\", bounding_box_format=\"xywh\"),\n",
    "        keras_cv.layers.JitteredResize(\n",
    "            target_size=(640, 640), scale_factor=(0.75, 1.3), bounding_box_format=\"xywh\"\n",
    "        ),\n",
    "    ]\n",
    ")\n",
    "\n",
    "train_ds = train_ds.map(augmenter, num_parallel_calls=tf.data.AUTOTUNE)\n",
    "visualize_dataset(\n",
    "    dataset=train_ds,\n",
    "    class_mapping=config.class_mapping,\n",
    "    title=\"Augmented-Train-Dataset\",\n",
    "    max_batches_to_visualize=10,\n",
    ")"
   ]
  },
  {
   "cell_type": "markdown",
   "metadata": {},
   "source": [
    "## Visualize the Resized Validation Dataset"
   ]
  },
  {
   "cell_type": "code",
   "execution_count": null,
   "metadata": {},
   "outputs": [],
   "source": [
    "inference_resizing = keras_cv.layers.Resizing(\n",
    "    640, 640, bounding_box_format=\"xywh\", pad_to_aspect_ratio=True\n",
    ")\n",
    "eval_ds = eval_ds.map(inference_resizing, num_parallel_calls=tf.data.AUTOTUNE)\n",
    "visualize_dataset(\n",
    "    dataset=eval_ds,\n",
    "    class_mapping=config.class_mapping,\n",
    "    title=\"Resized-Train-Dataset\",\n",
    "    max_batches_to_visualize=10,\n",
    ")"
   ]
  },
  {
   "cell_type": "markdown",
   "metadata": {},
   "source": [
    "## Prepare Dataset for Evaluation"
   ]
  },
  {
   "cell_type": "code",
   "execution_count": null,
   "metadata": {},
   "outputs": [],
   "source": [
    "def dict_to_tuple(inputs):\n",
    "    return inputs[\"images\"], keras_cv.bounding_box.to_dense(\n",
    "        inputs[\"bounding_boxes\"], max_boxes=32\n",
    "    )\n",
    "\n",
    "\n",
    "train_ds = train_ds.map(dict_to_tuple, num_parallel_calls=tf.data.AUTOTUNE)\n",
    "eval_ds = eval_ds.map(dict_to_tuple, num_parallel_calls=tf.data.AUTOTUNE)\n",
    "\n",
    "train_ds = train_ds.prefetch(tf.data.AUTOTUNE)\n",
    "eval_ds = eval_ds.prefetch(tf.data.AUTOTUNE)"
   ]
  },
  {
   "cell_type": "markdown",
   "metadata": {},
   "source": [
    "## Define the Pre-trained Model"
   ]
  },
  {
   "cell_type": "code",
   "execution_count": null,
   "metadata": {},
   "outputs": [],
   "source": [
    "pretrained_model = keras_cv.models.RetinaNet.from_preset(\n",
    "    config.model_name, bounding_box_format=\"xywh\"\n",
    ")\n",
    "\n",
    "optimizer = keras.optimizers.SGD(\n",
    "    learning_rate=config.base_lr,\n",
    "    momentum=config.momentum,\n",
    "    global_clipnorm=config.global_clipnorm\n",
    ")\n",
    "\n",
    "coco_metrics = keras_cv.metrics.BoxCOCOMetrics(\n",
    "    bounding_box_format=\"xywh\", evaluate_freq=20\n",
    ")\n",
    "\n",
    "pretrained_model.compile(\n",
    "    classification_loss=\"focal\",\n",
    "    box_loss=\"smoothl1\",\n",
    "    optimizer=optimizer,\n",
    "    metrics=[coco_metrics],\n",
    ")"
   ]
  },
  {
   "cell_type": "markdown",
   "metadata": {},
   "source": [
    "## Evaluate the Pre-trained Model on the Evaluation Dataset"
   ]
  },
  {
   "cell_type": "code",
   "execution_count": null,
   "metadata": {},
   "outputs": [],
   "source": [
    "coco_metrics.reset_state()\n",
    "result = pretrained_model.evaluate(eval_ds.take(40))\n",
    "result = coco_metrics.result(force=True)\n",
    "wandb.log({f\"Evaluation/{k}\": v.numpy() for k, v in result.items()})"
   ]
  },
  {
   "cell_type": "code",
   "execution_count": null,
   "metadata": {},
   "outputs": [],
   "source": [
    "# Finish the experiment\n",
    "wandb.finish()"
   ]
  }
 ],
 "metadata": {
  "language_info": {
   "name": "python"
  },
  "orig_nbformat": 4
 },
 "nbformat": 4,
 "nbformat_minor": 2
}
