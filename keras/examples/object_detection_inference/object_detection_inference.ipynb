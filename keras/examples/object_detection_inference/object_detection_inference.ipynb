{
 "cells": [
  {
   "cell_type": "markdown",
   "metadata": {},
   "source": [
    "# Object-Detection using [KerasCV](https://github.com/keras-team/keras-cv) and [Weights & Biases](https://wandb.ai/site)\n",
    "\n",
    "[![Open In Colab](https://colab.research.google.com/assets/colab-badge.svg)](https://colab.research.google.com/github/soumik12345/wandb-addons/blob/main/docs/keras/examples/object_detection_inference.ipynb)\n",
    "\n",
    "This notebook demonstrates how to use a pre-trained object-detection model from KerasCV and visualize the results using Weights & Biases."
   ]
  },
  {
   "cell_type": "code",
   "execution_count": null,
   "metadata": {},
   "outputs": [],
   "source": [
    "!pip install --upgrade -q git+https://github.com/keras-team/keras-cv\n",
    "!pip install --upgrade -q git+https://github.com/soumik12345/wandb-addons\n",
    "!pip install -q namex\n",
    "!apt install python3.10-venv\n",
    "!git clone https://github.com/keras-team/keras-core.git && cd keras-core\n",
    "!python pip_build.py --install"
   ]
  },
  {
   "cell_type": "markdown",
   "metadata": {},
   "source": [
    "## Import the Libraries"
   ]
  },
  {
   "cell_type": "code",
   "execution_count": null,
   "metadata": {},
   "outputs": [],
   "source": [
    "import keras_cv\n",
    "import keras as keras\n",
    "from keras import ops\n",
    "\n",
    "import numpy as np\n",
    "\n",
    "import wandb\n",
    "from wandb_addons.keras.detection import log_predictions_to_wandb"
   ]
  },
  {
   "cell_type": "markdown",
   "metadata": {},
   "source": [
    "## Initialize a Weights & Biases run and Set up the Configs"
   ]
  },
  {
   "cell_type": "code",
   "execution_count": null,
   "metadata": {},
   "outputs": [],
   "source": [
    "wandb.init(project=\"keras-community-days\", job_type=\"detection/inference\")\n",
    "\n",
    "config = wandb.config\n",
    "config.model_name = \"retinanet_resnet50_pascalvoc\"\n",
    "config.image_size = 640\n",
    "\n",
    "class_ids = [\n",
    "    \"Aeroplane\",\n",
    "    \"Bicycle\",\n",
    "    \"Bird\",\n",
    "    \"Boat\",\n",
    "    \"Bottle\",\n",
    "    \"Bus\",\n",
    "    \"Car\",\n",
    "    \"Cat\",\n",
    "    \"Chair\",\n",
    "    \"Cow\",\n",
    "    \"Dining Table\",\n",
    "    \"Dog\",\n",
    "    \"Horse\",\n",
    "    \"Motorbike\",\n",
    "    \"Person\",\n",
    "    \"Potted Plant\",\n",
    "    \"Sheep\",\n",
    "    \"Sofa\",\n",
    "    \"Train\",\n",
    "    \"Tvmonitor\",\n",
    "    \"Total\",\n",
    "]\n",
    "config.class_mapping = dict(zip(range(len(class_ids)), class_ids))"
   ]
  },
  {
   "cell_type": "markdown",
   "metadata": {},
   "source": [
    "## Fetch the Images"
   ]
  },
  {
   "cell_type": "code",
   "execution_count": null,
   "metadata": {},
   "outputs": [],
   "source": [
    "filepath_1 = keras.utils.get_file(\n",
    "    origin=\"https://i.imgur.com/gCNcJJI.jpg\"\n",
    ")\n",
    "filepath_2 = keras.utils.get_file(\n",
    "    origin=\"https://i.imgur.com/M8LR4fz.png\"\n",
    ")\n",
    "filepath_3 = keras.utils.get_file(\n",
    "    origin=\"https://i.imgur.com/H2d3VJC.jpeg\"\n",
    ")\n",
    "filepath_4 = keras.utils.get_file(\n",
    "    origin=\"https://i.imgur.com/eTxzk46.jpeg\"\n",
    ")\n",
    "\n",
    "image_1 = keras.utils.load_img(filepath_1)\n",
    "image_1 = np.array(image_1)\n",
    "image_2 = keras.utils.load_img(filepath_2)\n",
    "image_2 = np.array(image_2)\n",
    "image_3 = keras.utils.load_img(filepath_3)\n",
    "image_3 = np.array(image_3)\n",
    "image_4 = keras.utils.load_img(filepath_4)\n",
    "image_4 = np.array(image_4)"
   ]
  },
  {
   "cell_type": "markdown",
   "metadata": {},
   "source": [
    "## Preprocess the Images"
   ]
  },
  {
   "cell_type": "code",
   "execution_count": null,
   "metadata": {},
   "outputs": [],
   "source": [
    "inference_resizing = keras_cv.layers.Resizing(\n",
    "    config.image_size,\n",
    "    config.image_size,\n",
    "    pad_to_aspect_ratio=True,\n",
    "    bounding_box_format=\"xywh\"\n",
    ")\n",
    "image_1_resized = inference_resizing([image_1])\n",
    "image_2_resized = inference_resizing([image_2])\n",
    "image_3_resized = inference_resizing([image_3])\n",
    "image_4_resized = inference_resizing([image_4])\n",
    "image_batch = ops.concatenate(\n",
    "    [\n",
    "        image_1_resized,\n",
    "        image_2_resized,\n",
    "        image_3_resized,\n",
    "        image_4_resized\n",
    "    ],\n",
    "    axis=0\n",
    ")\n",
    "image_batch.shape"
   ]
  },
  {
   "cell_type": "markdown",
   "metadata": {},
   "source": [
    "## Define a pre-trained model from KerasCV"
   ]
  },
  {
   "cell_type": "code",
   "execution_count": null,
   "metadata": {},
   "outputs": [],
   "source": [
    "pretrained_model = keras_cv.models.RetinaNet.from_preset(\n",
    "    config.model_name, bounding_box_format=\"xywh\"\n",
    ")"
   ]
  },
  {
   "cell_type": "markdown",
   "metadata": {},
   "source": [
    "## Perform Inference"
   ]
  },
  {
   "cell_type": "code",
   "execution_count": null,
   "metadata": {},
   "outputs": [],
   "source": [
    "y_pred = pretrained_model.predict(image_batch)\n",
    "log_predictions_to_wandb(image_batch, y_pred, config.class_mapping)"
   ]
  },
  {
   "cell_type": "markdown",
   "metadata": {},
   "source": [
    "Need more control over the visualization?\n",
    "Reduce the threshold for Confidence by uncommenting the following code!"
   ]
  },
  {
   "cell_type": "code",
   "execution_count": null,
   "metadata": {},
   "outputs": [],
   "source": [
    "# prediction_decoder = keras_cv.layers.MultiClassNonMaxSuppression(\n",
    "#     bounding_box_format=\"xywh\",\n",
    "#     from_logits=True,\n",
    "#     iou_threshold=0.01,\n",
    "#     confidence_threshold=0.01,\n",
    "# )\n",
    "# pretrained_model.prediction_decoder = prediction_decoder\n",
    "# y_pred = pretrained_model.predict(image_batch)\n",
    "# log_predictions_to_wandb(image_batch, y_pred, config.class_mapping)"
   ]
  },
  {
   "cell_type": "markdown",
   "metadata": {},
   "source": [
    "Finish the run!"
   ]
  },
  {
   "cell_type": "code",
   "execution_count": null,
   "metadata": {},
   "outputs": [],
   "source": [
    "wandb.finish()"
   ]
  }
 ],
 "metadata": {
  "kernelspec": {
   "display_name": "tensorflow2",
   "language": "python",
   "name": "python3"
  },
  "language_info": {
   "codemirror_mode": {
    "name": "ipython",
    "version": 3
   },
   "file_extension": ".py",
   "mimetype": "text/x-python",
   "name": "python",
   "nbconvert_exporter": "python",
   "pygments_lexer": "ipython3",
   "version": "3.10.12"
  },
  "orig_nbformat": 4
 },
 "nbformat": 4,
 "nbformat_minor": 2
}
