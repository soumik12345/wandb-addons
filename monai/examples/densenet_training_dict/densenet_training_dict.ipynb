{
  "cells": [
    {
      "attachments": {},
      "cell_type": "markdown",
      "metadata": {
        "colab_type": "text",
        "id": "view-in-github"
      },
      "source": [
        "<a href=\"https://colab.research.google.com/github/soumik12345/wandb-addons/blob/examples%2Fmonai/densenet_training_dict.ipynb\" target=\"_parent\"><img src=\"https://colab.research.google.com/assets/colab-badge.svg\" alt=\"Open In Colab\"/></a>\n",
        "\n",
        "**Original Source:** https://github.com/Project-MONAI/tutorials/blob/main/3d_classification/ignite/densenet_training_dict.py"
      ]
    },
    {
      "cell_type": "code",
      "execution_count": null,
      "metadata": {
        "id": "26gwSEmtgfQ9"
      },
      "outputs": [],
      "source": [
        "!mkdir dataset\n",
        "%cd dataset\n",
        "!wget http://biomedic.doc.ic.ac.uk/brain-development/downloads/IXI/IXI-T1.tar\n",
        "!wget http://biomedic.doc.ic.ac.uk/brain-development/downloads/IXI/IXI-T2.tar\n",
        "!tar -xf IXI-T1.tar && tar -xf IXI-T2.tar && rm -rf IXI-T1.tar && rm -rf IXI-T2.tar\n",
        "%cd ..\n",
        "!git clone https://github.com/soumik12345/wandb-addons\n",
        "!pip install -q --upgrade pip setuptools\n",
        "!pip install -q -e wandb-addons[monai]"
      ]
    },
    {
      "cell_type": "code",
      "execution_count": null,
      "metadata": {
        "colab": {
          "base_uri": "https://localhost:8080/"
        },
        "id": "VCnXLAtwg0gZ",
        "outputId": "75b13d2b-0bc7-40ca-c5b6-1ac325f45888"
      },
      "outputs": [],
      "source": [
        "import os\n",
        "import sys\n",
        "from glob import glob\n",
        "\n",
        "import numpy as np\n",
        "import wandb\n",
        "import torch\n",
        "from ignite.engine import Events, _prepare_batch, create_supervised_evaluator, create_supervised_trainer\n",
        "from ignite.handlers import EarlyStopping, ModelCheckpoint\n",
        "\n",
        "import monai\n",
        "from monai.data import decollate_batch, DataLoader\n",
        "from monai.handlers import ROCAUC, StatsHandler, TensorBoardStatsHandler, stopping_fn_from_metric\n",
        "from monai.transforms import Activations, AsDiscrete, Compose, LoadImaged, RandRotate90d, Resized, ScaleIntensityd\n",
        "\n",
        "from wandb_addons.monai import WandbStatsHandler, WandbModelCheckpointHandler\n",
        "\n",
        "monai.config.print_config()"
      ]
    },
    {
      "cell_type": "code",
      "execution_count": null,
      "metadata": {
        "colab": {
          "base_uri": "https://localhost:8080/",
          "height": 144
        },
        "id": "N3Wb513Wg6xu",
        "outputId": "1a9329e5-ecb9-4422-8fa3-84e9449426bc"
      },
      "outputs": [],
      "source": [
        "wandb.tensorboard.patch(root_logdir=\"./runs\")\n",
        "wandb.init(project=\"monai-integration\", sync_tensorboard=True, save_code=True)"
      ]
    },
    {
      "cell_type": "code",
      "execution_count": null,
      "metadata": {
        "id": "zr8X-sMTg8TX"
      },
      "outputs": [],
      "source": [
        "images = glob(\"./dataset/*\")[:20]\n",
        "labels = np.array([0, 0, 0, 1, 0, 0, 0, 1, 1, 0, 0, 0, 1, 0, 1, 0, 1, 0, 1, 0], dtype=np.int64)\n",
        "train_files = [{\"img\": img, \"label\": label} for img, label in zip(images[:10], labels[:10])]\n",
        "val_files = [{\"img\": img, \"label\": label} for img, label in zip(images[-10:], labels[-10:])]"
      ]
    },
    {
      "cell_type": "code",
      "execution_count": null,
      "metadata": {
        "colab": {
          "base_uri": "https://localhost:8080/"
        },
        "id": "0EZsKs1bg-Hh",
        "outputId": "c8111505-494c-4633-ac74-706560c8ef79"
      },
      "outputs": [],
      "source": [
        "train_transforms = Compose(\n",
        "    [\n",
        "        LoadImaged(keys=[\"img\"], ensure_channel_first=True),\n",
        "        ScaleIntensityd(keys=[\"img\"]),\n",
        "        Resized(keys=[\"img\"], spatial_size=(96, 96, 96)),\n",
        "        RandRotate90d(keys=[\"img\"], prob=0.8, spatial_axes=[0, 2]),\n",
        "    ]\n",
        ")\n",
        "val_transforms = Compose(\n",
        "    [\n",
        "        LoadImaged(keys=[\"img\"], ensure_channel_first=True),\n",
        "        ScaleIntensityd(keys=[\"img\"]),\n",
        "        Resized(keys=[\"img\"], spatial_size=(96, 96, 96)),\n",
        "    ]\n",
        ")"
      ]
    },
    {
      "cell_type": "code",
      "execution_count": null,
      "metadata": {
        "colab": {
          "base_uri": "https://localhost:8080/"
        },
        "id": "gvJAkTG3hAw1",
        "outputId": "cd1b4ae3-79b0-4903-9993-354f8b158c4c"
      },
      "outputs": [],
      "source": [
        "check_ds = monai.data.Dataset(data=train_files, transform=train_transforms)\n",
        "check_loader = DataLoader(check_ds, batch_size=2, num_workers=4, pin_memory=torch.cuda.is_available())\n",
        "check_data = monai.utils.misc.first(check_loader)\n",
        "print(check_data[\"img\"].shape, check_data[\"label\"])"
      ]
    },
    {
      "cell_type": "code",
      "execution_count": null,
      "metadata": {
        "id": "GFwPD23chCBO"
      },
      "outputs": [],
      "source": [
        "device = torch.device(\"cuda\" if torch.cuda.is_available() else \"cpu\")\n",
        "net = monai.networks.nets.DenseNet121(spatial_dims=3, in_channels=1, out_channels=2).to(device)\n",
        "loss = torch.nn.CrossEntropyLoss()\n",
        "lr = 1e-5\n",
        "opt = torch.optim.Adam(net.parameters(), lr)"
      ]
    },
    {
      "cell_type": "code",
      "execution_count": null,
      "metadata": {
        "id": "plfCRpwjhDU1"
      },
      "outputs": [],
      "source": [
        "def prepare_batch(batch, device=None, non_blocking=False):\n",
        "    return _prepare_batch((batch[\"img\"], batch[\"label\"]), device, non_blocking)\n",
        "\n",
        "trainer = create_supervised_trainer(net, opt, loss, device, False, prepare_batch=prepare_batch)"
      ]
    },
    {
      "cell_type": "code",
      "execution_count": null,
      "metadata": {
        "id": "UyRWH-xchEfT"
      },
      "outputs": [],
      "source": [
        "checkpoint_handler = WandbModelCheckpointHandler(\"./runs_dict/\", \"net\", n_saved=10, require_empty=False)\n",
        "trainer.add_event_handler(\n",
        "    event_name=Events.EPOCH_COMPLETED, handler=checkpoint_handler, to_save={\"net\": net, \"opt\": opt}\n",
        ")\n",
        "\n",
        "train_stats_handler = StatsHandler(name=\"trainer\", output_transform=lambda x: x)\n",
        "train_stats_handler.attach(trainer)\n",
        "\n",
        "train_tensorboard_stats_handler = TensorBoardStatsHandler(output_transform=lambda x: x)\n",
        "train_tensorboard_stats_handler.attach(trainer)\n",
        "\n",
        "# WandbStatsHandler logs loss at every iteration\n",
        "train_wandb_stats_handler = WandbStatsHandler(output_transform=lambda x: x)\n",
        "train_wandb_stats_handler.attach(trainer)"
      ]
    },
    {
      "cell_type": "code",
      "execution_count": null,
      "metadata": {
        "id": "n-SlJCAphF8D"
      },
      "outputs": [],
      "source": [
        " # set parameters for validation\n",
        "validation_every_n_epochs = 1\n",
        "\n",
        "metric_name = \"AUC\"\n",
        "# add evaluation metric to the evaluator engine\n",
        "val_metrics = {metric_name: ROCAUC()}\n",
        "\n",
        "post_label = Compose([AsDiscrete(to_onehot=2)])\n",
        "post_pred = Compose([Activations(softmax=True)])\n",
        "# Ignite evaluator expects batch=(img, label) and returns output=(y_pred, y) at every iteration,\n",
        "# user can add output_transform to return other values\n",
        "evaluator = create_supervised_evaluator(\n",
        "    net,\n",
        "    val_metrics,\n",
        "    device,\n",
        "    True,\n",
        "    prepare_batch=prepare_batch,\n",
        "    output_transform=lambda x, y, y_pred: (\n",
        "        [post_pred(i) for i in decollate_batch(y_pred)],\n",
        "        [post_label(i) for i in decollate_batch(y, detach=False)],\n",
        "    ),\n",
        ")"
      ]
    },
    {
      "cell_type": "code",
      "execution_count": null,
      "metadata": {
        "id": "QnH1hXpBhHUT"
      },
      "outputs": [],
      "source": [
        "# add stats event handler to print validation stats via evaluator\n",
        "val_stats_handler = StatsHandler(\n",
        "    name=\"evaluator\",\n",
        "    output_transform=lambda x: None,  # no need to print loss value, so disable per iteration output\n",
        "    global_epoch_transform=lambda x: trainer.state.epoch,\n",
        ")  # fetch global epoch number from trainer\n",
        "val_stats_handler.attach(evaluator)\n",
        "\n",
        "# add handler to record metrics to TensorBoard at every epoch\n",
        "val_tensorboard_stats_handler = TensorBoardStatsHandler(\n",
        "    output_transform=lambda x: None,  # no need to plot loss value, so disable per iteration output\n",
        "    global_epoch_transform=lambda x: trainer.state.epoch,\n",
        ")  # fetch global epoch number from trainer\n",
        "val_tensorboard_stats_handler.attach(evaluator)\n",
        "\n",
        "# add handler to record metrics to Weights & Biases at every epoch\n",
        "val_wandb_stats_handler = WandbStatsHandler(\n",
        "    output_transform=lambda x: None,\n",
        "    global_epoch_transform=lambda x: trainer.state.epoch,\n",
        ")\n",
        "val_wandb_stats_handler.attach(trainer)"
      ]
    },
    {
      "cell_type": "code",
      "execution_count": null,
      "metadata": {
        "colab": {
          "base_uri": "https://localhost:8080/"
        },
        "id": "erb5BjZbhIqf",
        "outputId": "9883dabd-f67e-496b-a75a-a1d46565170c"
      },
      "outputs": [],
      "source": [
        "# add early stopping handler to evaluator\n",
        "early_stopper = EarlyStopping(patience=4, score_function=stopping_fn_from_metric(metric_name), trainer=trainer)\n",
        "evaluator.add_event_handler(event_name=Events.EPOCH_COMPLETED, handler=early_stopper)"
      ]
    },
    {
      "cell_type": "code",
      "execution_count": null,
      "metadata": {
        "id": "_qIxL_rDhKBe"
      },
      "outputs": [],
      "source": [
        "# create a validation data loader\n",
        "val_ds = monai.data.Dataset(data=val_files, transform=val_transforms)\n",
        "val_loader = DataLoader(val_ds, batch_size=2, num_workers=4, pin_memory=torch.cuda.is_available())"
      ]
    },
    {
      "cell_type": "code",
      "execution_count": null,
      "metadata": {
        "id": "FSj-EcxLhLRJ"
      },
      "outputs": [],
      "source": [
        "@trainer.on(Events.EPOCH_COMPLETED(every=validation_every_n_epochs))\n",
        "def run_validation(engine):\n",
        "    evaluator.run(val_loader)"
      ]
    },
    {
      "cell_type": "code",
      "execution_count": null,
      "metadata": {
        "id": "f1jqVXrphMcs"
      },
      "outputs": [],
      "source": [
        "# create a training data loader\n",
        "train_ds = monai.data.Dataset(data=train_files, transform=train_transforms)\n",
        "train_loader = DataLoader(train_ds, batch_size=2, shuffle=True, num_workers=4, pin_memory=torch.cuda.is_available())"
      ]
    },
    {
      "cell_type": "code",
      "execution_count": null,
      "metadata": {
        "colab": {
          "base_uri": "https://localhost:8080/",
          "height": 1000
        },
        "id": "VGdPBlG1hNj1",
        "outputId": "cc10a268-a533-4fff-d500-f4f547abbf77"
      },
      "outputs": [],
      "source": [
        "train_epochs = 30\n",
        "state = trainer.run(train_loader, train_epochs)\n",
        "print(state)\n",
        "wandb.finish()"
      ]
    },
    {
      "cell_type": "code",
      "execution_count": null,
      "metadata": {
        "id": "2q6rKXHzkrsP"
      },
      "outputs": [],
      "source": []
    }
  ],
  "metadata": {
    "accelerator": "GPU",
    "colab": {
      "authorship_tag": "ABX9TyMjyX2mtD4NsrLH7RMEzMgG",
      "include_colab_link": true,
      "provenance": []
    },
    "gpuClass": "standard",
    "kernelspec": {
      "display_name": "Python 3",
      "name": "python3"
    },
    "language_info": {
      "name": "python"
    }
  },
  "nbformat": 4,
  "nbformat_minor": 0
}
