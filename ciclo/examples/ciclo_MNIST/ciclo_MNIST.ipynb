{
  "cells": [
    {
      "cell_type": "markdown",
      "metadata": {
        "colab_type": "text",
        "id": "view-in-github"
      },
      "source": [
        "<a href=\"https://colab.research.google.com/github/soumik12345/wandb-addons/blob/docs/docs/ciclo/examples/Ciclo_Wandb.ipynb\" target=\"_parent\"><img src=\"https://colab.research.google.com/assets/colab-badge.svg\" alt=\"Open In Colab\"/></a>"
      ]
    },
    {
      "cell_type": "code",
      "execution_count": null,
      "metadata": {
        "id": "5DESiLzjPppi"
      },
      "outputs": [],
      "source": [
        "!git clone https://github.com/soumik12345/wandb-addons\n",
        "!pip install .[jax]"
      ]
    },
    {
      "cell_type": "code",
      "execution_count": null,
      "metadata": {
        "id": "FP0Gz_fHcbjT"
      },
      "outputs": [],
      "source": [
        "from pathlib import Path\n",
        "from time import time\n",
        "from typing import Optional, Callable\n",
        "from collections.abc import MutableMapping\n",
        "\n",
        "import flax.linen as nn\n",
        "import jax.numpy as jnp\n",
        "import jax_metrics as jm\n",
        "import matplotlib.pyplot as plt\n",
        "import optax\n",
        "import tensorflow as tf\n",
        "import tensorflow_datasets as tfds\n",
        "\n",
        "import ciclo\n",
        "from ciclo.logging import Logs\n",
        "from ciclo.types import Batch, S\n",
        "from ciclo.timetracking import Elapsed\n",
        "from ciclo.loops.loop import LoopCallbackBase\n",
        "from ciclo.callbacks import LoopState, CallbackOutput\n",
        "\n",
        "import wandb\n",
        "from wandb_addons.ciclo import WandbLogger"
      ]
    },
    {
      "cell_type": "code",
      "execution_count": null,
      "metadata": {
        "colab": {
          "base_uri": "https://localhost:8080/",
          "height": 144
        },
        "id": "XYSS_vfRm9pA",
        "outputId": "242cc357-fa7d-482a-fada-6dc024292b98"
      },
      "outputs": [],
      "source": [
        "wandb.init(project=\"ciclo-integration\", entity=\"geekyrakshit\", job_type=\"test\")"
      ]
    },
    {
      "cell_type": "code",
      "execution_count": null,
      "metadata": {
        "id": "wNJDOV_Ie-Ny"
      },
      "outputs": [],
      "source": [
        "batch_size = 32\n",
        "total_samples = 32 * 100\n",
        "total_steps = total_samples // batch_size\n",
        "steps_per_epoch = total_steps // 10\n",
        "test_steps = 10"
      ]
    },
    {
      "cell_type": "code",
      "execution_count": null,
      "metadata": {
        "id": "2bXQulxtfsiZ"
      },
      "outputs": [],
      "source": [
        "# load the MNIST dataset\n",
        "ds_train: tf.data.Dataset = tfds.load(\"mnist\", split=\"train\", shuffle_files=True)\n",
        "ds_train = ds_train.map(lambda x: (x[\"image\"], x[\"label\"]))\n",
        "ds_train = ds_train.repeat().shuffle(1024).batch(batch_size).prefetch(1)\n",
        "ds_test: tf.data.Dataset = tfds.load(\"mnist\", split=\"test\")\n",
        "ds_test = ds_test.map(lambda x: (x[\"image\"], x[\"label\"]))  # .take(10)\n",
        "ds_test = ds_test.batch(32, drop_remainder=True).prefetch(1)"
      ]
    },
    {
      "cell_type": "code",
      "execution_count": null,
      "metadata": {
        "id": "LURj-DEFfvTV"
      },
      "outputs": [],
      "source": [
        "# Define model\n",
        "class Linear(nn.Module):\n",
        "    @nn.compact\n",
        "    def __call__(self, x):\n",
        "        x = x / 255.0\n",
        "        x = x.reshape((x.shape[0], -1))  # flatten\n",
        "        x = nn.Dense(features=10)(x)\n",
        "        return x"
      ]
    },
    {
      "cell_type": "code",
      "execution_count": null,
      "metadata": {
        "id": "O7ruIYgqfwIJ"
      },
      "outputs": [],
      "source": [
        "# Initialize state\n",
        "model = Linear()\n",
        "state = ciclo.create_flax_state(\n",
        "    model,\n",
        "    inputs=jnp.empty((1, 28, 28, 1)),\n",
        "    tx=optax.adamw(1e-3),\n",
        "    losses={\"loss\": jm.losses.Crossentropy()},\n",
        "    metrics={\"accuracy\": jm.metrics.Accuracy()},\n",
        "    strategy=\"jit\",\n",
        ")"
      ]
    },
    {
      "cell_type": "code",
      "execution_count": null,
      "metadata": {
        "colab": {
          "base_uri": "https://localhost:8080/"
        },
        "id": "lLZPK5rLfyr5",
        "outputId": "d4f66e06-8e08-4f84-fbc7-fe905280620f"
      },
      "outputs": [],
      "source": [
        "state, history, _ = ciclo.train_loop(\n",
        "    state,\n",
        "    ds_train.as_numpy_iterator(),\n",
        "    callbacks=[\n",
        "        ciclo.keras_bar(total=total_steps),\n",
        "        ciclo.checkpoint(\n",
        "            f\"logdir/checkpoint/{int(time())}\",\n",
        "            monitor=\"accuracy_test\",\n",
        "            mode=\"max\",\n",
        "        ),\n",
        "        WandbLogger(),\n",
        "    ],\n",
        "    test_dataset=lambda: ds_test.as_numpy_iterator(),\n",
        "    epoch_duration=steps_per_epoch,\n",
        "    test_duration=test_steps,\n",
        "    stop=total_steps,\n",
        ")"
      ]
    },
    {
      "cell_type": "code",
      "execution_count": null,
      "metadata": {
        "colab": {
          "base_uri": "https://localhost:8080/",
          "height": 377,
          "referenced_widgets": [
            "8c98327a050e42ce8bcf44baa15052d5",
            "068ef574db964268bbcc34f62058d92e",
            "0b96bb26d9864337b8bd234a31cc0e95",
            "f4d380fa921e4e79be057995ace8a976",
            "2a24ef2744a747629eb0cdb5609f2525",
            "21055d3414cb428b8abe56f5db89e69d",
            "c43f1e3dd54b4e8887723167c80d87ac",
            "4d529c3e6fde4fa4a117b7832f4e54ec"
          ]
        },
        "id": "WTyfMHGCgADU",
        "outputId": "8631a2bf-18ce-4538-de64-7eb7a982cd3c"
      },
      "outputs": [],
      "source": [
        "wandb.finish()"
      ]
    }
  ],
  "metadata": {
    "accelerator": "GPU",
    "colab": {
      "authorship_tag": "ABX9TyOE1CiSXJ3n3Fw/obi4JJQw",
      "include_colab_link": true,
      "provenance": []
    },
    "gpuClass": "standard",
    "kernelspec": {
      "display_name": "Python 3",
      "name": "python3"
    },
    "language_info": {
      "name": "python"
    },
    "widgets": {
      "application/vnd.jupyter.widget-state+json": {
        "068ef574db964268bbcc34f62058d92e": {
          "model_module": "@jupyter-widgets/controls",
          "model_module_version": "1.5.0",
          "model_name": "LabelModel",
          "state": {
            "_dom_classes": [],
            "_model_module": "@jupyter-widgets/controls",
            "_model_module_version": "1.5.0",
            "_model_name": "LabelModel",
            "_view_count": null,
            "_view_module": "@jupyter-widgets/controls",
            "_view_module_version": "1.5.0",
            "_view_name": "LabelView",
            "description": "",
            "description_tooltip": null,
            "layout": "IPY_MODEL_2a24ef2744a747629eb0cdb5609f2525",
            "placeholder": "​",
            "style": "IPY_MODEL_21055d3414cb428b8abe56f5db89e69d",
            "value": "0.001 MB of 0.001 MB uploaded (0.000 MB deduped)\r"
          }
        },
        "0b96bb26d9864337b8bd234a31cc0e95": {
          "model_module": "@jupyter-widgets/controls",
          "model_module_version": "1.5.0",
          "model_name": "FloatProgressModel",
          "state": {
            "_dom_classes": [],
            "_model_module": "@jupyter-widgets/controls",
            "_model_module_version": "1.5.0",
            "_model_name": "FloatProgressModel",
            "_view_count": null,
            "_view_module": "@jupyter-widgets/controls",
            "_view_module_version": "1.5.0",
            "_view_name": "ProgressView",
            "bar_style": "",
            "description": "",
            "description_tooltip": null,
            "layout": "IPY_MODEL_c43f1e3dd54b4e8887723167c80d87ac",
            "max": 1,
            "min": 0,
            "orientation": "horizontal",
            "style": "IPY_MODEL_4d529c3e6fde4fa4a117b7832f4e54ec",
            "value": 1
          }
        },
        "21055d3414cb428b8abe56f5db89e69d": {
          "model_module": "@jupyter-widgets/controls",
          "model_module_version": "1.5.0",
          "model_name": "DescriptionStyleModel",
          "state": {
            "_model_module": "@jupyter-widgets/controls",
            "_model_module_version": "1.5.0",
            "_model_name": "DescriptionStyleModel",
            "_view_count": null,
            "_view_module": "@jupyter-widgets/base",
            "_view_module_version": "1.2.0",
            "_view_name": "StyleView",
            "description_width": ""
          }
        },
        "2a24ef2744a747629eb0cdb5609f2525": {
          "model_module": "@jupyter-widgets/base",
          "model_module_version": "1.2.0",
          "model_name": "LayoutModel",
          "state": {
            "_model_module": "@jupyter-widgets/base",
            "_model_module_version": "1.2.0",
            "_model_name": "LayoutModel",
            "_view_count": null,
            "_view_module": "@jupyter-widgets/base",
            "_view_module_version": "1.2.0",
            "_view_name": "LayoutView",
            "align_content": null,
            "align_items": null,
            "align_self": null,
            "border": null,
            "bottom": null,
            "display": null,
            "flex": null,
            "flex_flow": null,
            "grid_area": null,
            "grid_auto_columns": null,
            "grid_auto_flow": null,
            "grid_auto_rows": null,
            "grid_column": null,
            "grid_gap": null,
            "grid_row": null,
            "grid_template_areas": null,
            "grid_template_columns": null,
            "grid_template_rows": null,
            "height": null,
            "justify_content": null,
            "justify_items": null,
            "left": null,
            "margin": null,
            "max_height": null,
            "max_width": null,
            "min_height": null,
            "min_width": null,
            "object_fit": null,
            "object_position": null,
            "order": null,
            "overflow": null,
            "overflow_x": null,
            "overflow_y": null,
            "padding": null,
            "right": null,
            "top": null,
            "visibility": null,
            "width": null
          }
        },
        "4d529c3e6fde4fa4a117b7832f4e54ec": {
          "model_module": "@jupyter-widgets/controls",
          "model_module_version": "1.5.0",
          "model_name": "ProgressStyleModel",
          "state": {
            "_model_module": "@jupyter-widgets/controls",
            "_model_module_version": "1.5.0",
            "_model_name": "ProgressStyleModel",
            "_view_count": null,
            "_view_module": "@jupyter-widgets/base",
            "_view_module_version": "1.2.0",
            "_view_name": "StyleView",
            "bar_color": null,
            "description_width": ""
          }
        },
        "8c98327a050e42ce8bcf44baa15052d5": {
          "model_module": "@jupyter-widgets/controls",
          "model_module_version": "1.5.0",
          "model_name": "VBoxModel",
          "state": {
            "_dom_classes": [],
            "_model_module": "@jupyter-widgets/controls",
            "_model_module_version": "1.5.0",
            "_model_name": "VBoxModel",
            "_view_count": null,
            "_view_module": "@jupyter-widgets/controls",
            "_view_module_version": "1.5.0",
            "_view_name": "VBoxView",
            "box_style": "",
            "children": [
              "IPY_MODEL_068ef574db964268bbcc34f62058d92e",
              "IPY_MODEL_0b96bb26d9864337b8bd234a31cc0e95"
            ],
            "layout": "IPY_MODEL_f4d380fa921e4e79be057995ace8a976"
          }
        },
        "c43f1e3dd54b4e8887723167c80d87ac": {
          "model_module": "@jupyter-widgets/base",
          "model_module_version": "1.2.0",
          "model_name": "LayoutModel",
          "state": {
            "_model_module": "@jupyter-widgets/base",
            "_model_module_version": "1.2.0",
            "_model_name": "LayoutModel",
            "_view_count": null,
            "_view_module": "@jupyter-widgets/base",
            "_view_module_version": "1.2.0",
            "_view_name": "LayoutView",
            "align_content": null,
            "align_items": null,
            "align_self": null,
            "border": null,
            "bottom": null,
            "display": null,
            "flex": null,
            "flex_flow": null,
            "grid_area": null,
            "grid_auto_columns": null,
            "grid_auto_flow": null,
            "grid_auto_rows": null,
            "grid_column": null,
            "grid_gap": null,
            "grid_row": null,
            "grid_template_areas": null,
            "grid_template_columns": null,
            "grid_template_rows": null,
            "height": null,
            "justify_content": null,
            "justify_items": null,
            "left": null,
            "margin": null,
            "max_height": null,
            "max_width": null,
            "min_height": null,
            "min_width": null,
            "object_fit": null,
            "object_position": null,
            "order": null,
            "overflow": null,
            "overflow_x": null,
            "overflow_y": null,
            "padding": null,
            "right": null,
            "top": null,
            "visibility": null,
            "width": null
          }
        },
        "f4d380fa921e4e79be057995ace8a976": {
          "model_module": "@jupyter-widgets/base",
          "model_module_version": "1.2.0",
          "model_name": "LayoutModel",
          "state": {
            "_model_module": "@jupyter-widgets/base",
            "_model_module_version": "1.2.0",
            "_model_name": "LayoutModel",
            "_view_count": null,
            "_view_module": "@jupyter-widgets/base",
            "_view_module_version": "1.2.0",
            "_view_name": "LayoutView",
            "align_content": null,
            "align_items": null,
            "align_self": null,
            "border": null,
            "bottom": null,
            "display": null,
            "flex": null,
            "flex_flow": null,
            "grid_area": null,
            "grid_auto_columns": null,
            "grid_auto_flow": null,
            "grid_auto_rows": null,
            "grid_column": null,
            "grid_gap": null,
            "grid_row": null,
            "grid_template_areas": null,
            "grid_template_columns": null,
            "grid_template_rows": null,
            "height": null,
            "justify_content": null,
            "justify_items": null,
            "left": null,
            "margin": null,
            "max_height": null,
            "max_width": null,
            "min_height": null,
            "min_width": null,
            "object_fit": null,
            "object_position": null,
            "order": null,
            "overflow": null,
            "overflow_x": null,
            "overflow_y": null,
            "padding": null,
            "right": null,
            "top": null,
            "visibility": null,
            "width": null
          }
        }
      }
    }
  },
  "nbformat": 4,
  "nbformat_minor": 0
}
